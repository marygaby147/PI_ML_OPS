{
 "cells": [
  {
   "cell_type": "markdown",
   "metadata": {},
   "source": [
    "### En este proceso la unión de los datasets y la selección de características numéricas son pasos esenciales para desarrollar un modelo de sistema de recomendación de videojuegos efectivo."
   ]
  },
  {
   "cell_type": "code",
   "execution_count": 3,
   "metadata": {},
   "outputs": [],
   "source": [
    "import pandas as pd\n",
    "import pyarrow\n"
   ]
  },
  {
   "cell_type": "markdown",
   "metadata": {},
   "source": [
    "### Se cargan los archivos .parquet.gz en DataFrames. "
   ]
  },
  {
   "cell_type": "code",
   "execution_count": 4,
   "metadata": {},
   "outputs": [],
   "source": [
    "df_games = pd.read_parquet('output_steam_games_clean.parquet.gz')\n",
    "df_items = pd.read_parquet('australian_users_items_clean.parquet.gz')"
   ]
  },
  {
   "cell_type": "markdown",
   "metadata": {},
   "source": [
    "### Se unen los dos DataFrames por la columna “id” utilizando el método .merge()"
   ]
  },
  {
   "cell_type": "code",
   "execution_count": 22,
   "metadata": {},
   "outputs": [],
   "source": [
    "df_merged = pd.merge(df_games, df_items, on='id', how='inner')"
   ]
  },
  {
   "cell_type": "markdown",
   "metadata": {},
   "source": [
    "### Visualización del DataFrame Final."
   ]
  },
  {
   "cell_type": "code",
   "execution_count": 23,
   "metadata": {},
   "outputs": [
    {
     "data": {
      "text/html": [
       "<div>\n",
       "<style scoped>\n",
       "    .dataframe tbody tr th:only-of-type {\n",
       "        vertical-align: middle;\n",
       "    }\n",
       "\n",
       "    .dataframe tbody tr th {\n",
       "        vertical-align: top;\n",
       "    }\n",
       "\n",
       "    .dataframe thead th {\n",
       "        text-align: right;\n",
       "    }\n",
       "</style>\n",
       "<table border=\"1\" class=\"dataframe\">\n",
       "  <thead>\n",
       "    <tr style=\"text-align: right;\">\n",
       "      <th></th>\n",
       "      <th>publisher</th>\n",
       "      <th>genres</th>\n",
       "      <th>title</th>\n",
       "      <th>id</th>\n",
       "      <th>developer</th>\n",
       "      <th>Action</th>\n",
       "      <th>Adventure</th>\n",
       "      <th>Animation &amp;amp; Modeling</th>\n",
       "      <th>Audio Production</th>\n",
       "      <th>Casual</th>\n",
       "      <th>...</th>\n",
       "      <th>Strategy</th>\n",
       "      <th>Utilities</th>\n",
       "      <th>Video Production</th>\n",
       "      <th>Web Publishing</th>\n",
       "      <th>year</th>\n",
       "      <th>user_id</th>\n",
       "      <th>items_count</th>\n",
       "      <th>steam_id</th>\n",
       "      <th>playtime_forever</th>\n",
       "      <th>playtime_2weeks</th>\n",
       "    </tr>\n",
       "  </thead>\n",
       "  <tbody>\n",
       "    <tr>\n",
       "      <th>0</th>\n",
       "      <td>Valve</td>\n",
       "      <td>Action</td>\n",
       "      <td>Half-Life</td>\n",
       "      <td>70.0</td>\n",
       "      <td>Valve</td>\n",
       "      <td>1</td>\n",
       "      <td>0</td>\n",
       "      <td>0</td>\n",
       "      <td>0</td>\n",
       "      <td>0</td>\n",
       "      <td>...</td>\n",
       "      <td>0</td>\n",
       "      <td>0</td>\n",
       "      <td>0</td>\n",
       "      <td>0</td>\n",
       "      <td>1998</td>\n",
       "      <td>kube134</td>\n",
       "      <td>476</td>\n",
       "      <td>76561198031442694</td>\n",
       "      <td>4</td>\n",
       "      <td>0</td>\n",
       "    </tr>\n",
       "    <tr>\n",
       "      <th>1</th>\n",
       "      <td>Valve</td>\n",
       "      <td>Action</td>\n",
       "      <td>Half-Life</td>\n",
       "      <td>70.0</td>\n",
       "      <td>Valve</td>\n",
       "      <td>1</td>\n",
       "      <td>0</td>\n",
       "      <td>0</td>\n",
       "      <td>0</td>\n",
       "      <td>0</td>\n",
       "      <td>...</td>\n",
       "      <td>0</td>\n",
       "      <td>0</td>\n",
       "      <td>0</td>\n",
       "      <td>0</td>\n",
       "      <td>1998</td>\n",
       "      <td>76561198030567998</td>\n",
       "      <td>75</td>\n",
       "      <td>76561198030567998</td>\n",
       "      <td>21</td>\n",
       "      <td>0</td>\n",
       "    </tr>\n",
       "    <tr>\n",
       "      <th>2</th>\n",
       "      <td>Valve</td>\n",
       "      <td>Action</td>\n",
       "      <td>Half-Life</td>\n",
       "      <td>70.0</td>\n",
       "      <td>Valve</td>\n",
       "      <td>1</td>\n",
       "      <td>0</td>\n",
       "      <td>0</td>\n",
       "      <td>0</td>\n",
       "      <td>0</td>\n",
       "      <td>...</td>\n",
       "      <td>0</td>\n",
       "      <td>0</td>\n",
       "      <td>0</td>\n",
       "      <td>0</td>\n",
       "      <td>1998</td>\n",
       "      <td>itslonk</td>\n",
       "      <td>133</td>\n",
       "      <td>76561198027380739</td>\n",
       "      <td>8</td>\n",
       "      <td>0</td>\n",
       "    </tr>\n",
       "  </tbody>\n",
       "</table>\n",
       "<p>3 rows × 32 columns</p>\n",
       "</div>"
      ],
      "text/plain": [
       "  publisher  genres      title    id developer  Action  Adventure  \\\n",
       "0     Valve  Action  Half-Life  70.0     Valve       1          0   \n",
       "1     Valve  Action  Half-Life  70.0     Valve       1          0   \n",
       "2     Valve  Action  Half-Life  70.0     Valve       1          0   \n",
       "\n",
       "   Animation &amp; Modeling  Audio Production  Casual  ...  Strategy  \\\n",
       "0                         0                 0       0  ...         0   \n",
       "1                         0                 0       0  ...         0   \n",
       "2                         0                 0       0  ...         0   \n",
       "\n",
       "   Utilities  Video Production  Web Publishing  year            user_id  \\\n",
       "0          0                 0               0  1998            kube134   \n",
       "1          0                 0               0  1998  76561198030567998   \n",
       "2          0                 0               0  1998            itslonk   \n",
       "\n",
       "   items_count           steam_id  playtime_forever  playtime_2weeks  \n",
       "0          476  76561198031442694                 4                0  \n",
       "1           75  76561198030567998                21                0  \n",
       "2          133  76561198027380739                 8                0  \n",
       "\n",
       "[3 rows x 32 columns]"
      ]
     },
     "execution_count": 23,
     "metadata": {},
     "output_type": "execute_result"
    }
   ],
   "source": [
    "df_merged.head(3)"
   ]
  },
  {
   "cell_type": "markdown",
   "metadata": {},
   "source": [
    "### Se elimina la columna 'genre' para reducir la dimensionalidad "
   ]
  },
  {
   "cell_type": "code",
   "execution_count": 24,
   "metadata": {},
   "outputs": [],
   "source": [
    "df_merged.drop(['genres'],axis=1, inplace=True)"
   ]
  },
  {
   "cell_type": "markdown",
   "metadata": {},
   "source": [
    "### El DataFrame Final se exporta a un archivo Parquet."
   ]
  },
  {
   "cell_type": "code",
   "execution_count": 25,
   "metadata": {},
   "outputs": [],
   "source": [
    "df_merged.to_parquet('dataset_final.parquet.gz', compression='gzip', index=False) "
   ]
  },
  {
   "cell_type": "markdown",
   "metadata": {},
   "source": [
    "### Se carga el dataset australian_user_reviews_clean.parquet.gz"
   ]
  },
  {
   "cell_type": "code",
   "execution_count": 26,
   "metadata": {},
   "outputs": [],
   "source": [
    "df_reviews = pd.read_parquet('australian_user_reviews_clean.parquet.gz') "
   ]
  },
  {
   "cell_type": "markdown",
   "metadata": {},
   "source": [
    "### Se unen ambos DataFrame por la columna 'user_id' para obtener un DataFrame Final."
   ]
  },
  {
   "cell_type": "code",
   "execution_count": 27,
   "metadata": {},
   "outputs": [],
   "source": [
    "df_final = pd.merge(df_merged, df_reviews, on = 'user_id') "
   ]
  },
  {
   "cell_type": "code",
   "execution_count": 28,
   "metadata": {},
   "outputs": [
    {
     "data": {
      "text/plain": [
       "Index(['publisher', 'title', 'id', 'developer', 'Action', 'Adventure',\n",
       "       'Animation &amp; Modeling', 'Audio Production', 'Casual',\n",
       "       'Design &amp; Illustration', 'Early Access', 'Education',\n",
       "       'Free to Play', 'Indie', 'Massively Multiplayer', 'Photo Editing',\n",
       "       'RPG', 'Racing', 'Simulation', 'Software Training', 'Sports',\n",
       "       'Strategy', 'Utilities', 'Video Production', 'Web Publishing', 'year',\n",
       "       'user_id', 'items_count', 'steam_id', 'playtime_forever',\n",
       "       'playtime_2weeks', 'user_url', 'funny', 'last_edited', 'item_id',\n",
       "       'helpful', 'recommend', 'review', '0', 'posted_year',\n",
       "       'sentiment_analysis'],\n",
       "      dtype='object')"
      ]
     },
     "execution_count": 28,
     "metadata": {},
     "output_type": "execute_result"
    }
   ],
   "source": [
    "df_final.columns"
   ]
  },
  {
   "cell_type": "markdown",
   "metadata": {},
   "source": [
    "### Se eliminan columnas específicas del DataFrame con el objetivo de reducir su tamaño y mejorar su eficiencia."
   ]
  },
  {
   "cell_type": "code",
   "execution_count": 29,
   "metadata": {},
   "outputs": [],
   "source": [
    "df_final.drop(columns=['0'], inplace=True)"
   ]
  },
  {
   "cell_type": "markdown",
   "metadata": {},
   "source": [
    "### El DataFrame obtenido de los diferentes procesos se exporta a un archivo Parquet."
   ]
  },
  {
   "cell_type": "code",
   "execution_count": 30,
   "metadata": {},
   "outputs": [],
   "source": [
    "df_final.to_parquet('dataset_final.parquet.gz', compression='gzip', index=False) "
   ]
  },
  {
   "cell_type": "code",
   "execution_count": 31,
   "metadata": {},
   "outputs": [
    {
     "data": {
      "text/html": [
       "<div>\n",
       "<style scoped>\n",
       "    .dataframe tbody tr th:only-of-type {\n",
       "        vertical-align: middle;\n",
       "    }\n",
       "\n",
       "    .dataframe tbody tr th {\n",
       "        vertical-align: top;\n",
       "    }\n",
       "\n",
       "    .dataframe thead th {\n",
       "        text-align: right;\n",
       "    }\n",
       "</style>\n",
       "<table border=\"1\" class=\"dataframe\">\n",
       "  <thead>\n",
       "    <tr style=\"text-align: right;\">\n",
       "      <th></th>\n",
       "      <th>publisher</th>\n",
       "      <th>title</th>\n",
       "      <th>id</th>\n",
       "      <th>developer</th>\n",
       "      <th>Action</th>\n",
       "      <th>Adventure</th>\n",
       "      <th>Animation &amp;amp; Modeling</th>\n",
       "      <th>Audio Production</th>\n",
       "      <th>Casual</th>\n",
       "      <th>Design &amp;amp; Illustration</th>\n",
       "      <th>...</th>\n",
       "      <th>playtime_2weeks</th>\n",
       "      <th>user_url</th>\n",
       "      <th>funny</th>\n",
       "      <th>last_edited</th>\n",
       "      <th>item_id</th>\n",
       "      <th>helpful</th>\n",
       "      <th>recommend</th>\n",
       "      <th>review</th>\n",
       "      <th>posted_year</th>\n",
       "      <th>sentiment_analysis</th>\n",
       "    </tr>\n",
       "  </thead>\n",
       "  <tbody>\n",
       "    <tr>\n",
       "      <th>0</th>\n",
       "      <td>Valve</td>\n",
       "      <td>Half-Life</td>\n",
       "      <td>70.0</td>\n",
       "      <td>Valve</td>\n",
       "      <td>1</td>\n",
       "      <td>0</td>\n",
       "      <td>0</td>\n",
       "      <td>0</td>\n",
       "      <td>0</td>\n",
       "      <td>0</td>\n",
       "      <td>...</td>\n",
       "      <td>0</td>\n",
       "      <td>http://steamcommunity.com/id/kube134</td>\n",
       "      <td></td>\n",
       "      <td></td>\n",
       "      <td>251990</td>\n",
       "      <td>1 of 1 people (100%) found this review helpful</td>\n",
       "      <td>True</td>\n",
       "      <td>It's good to be a magical queen... if you surv...</td>\n",
       "      <td>2014</td>\n",
       "      <td>2</td>\n",
       "    </tr>\n",
       "    <tr>\n",
       "      <th>1</th>\n",
       "      <td>Valve</td>\n",
       "      <td>Half-Life</td>\n",
       "      <td>70.0</td>\n",
       "      <td>Valve</td>\n",
       "      <td>1</td>\n",
       "      <td>0</td>\n",
       "      <td>0</td>\n",
       "      <td>0</td>\n",
       "      <td>0</td>\n",
       "      <td>0</td>\n",
       "      <td>...</td>\n",
       "      <td>0</td>\n",
       "      <td>http://steamcommunity.com/profiles/76561198030...</td>\n",
       "      <td>2 people found this review funny</td>\n",
       "      <td></td>\n",
       "      <td>332800</td>\n",
       "      <td>194 of 282 people (69%) found this review helpful</td>\n",
       "      <td>True</td>\n",
       "      <td>10/10 would take kids here for birthday</td>\n",
       "      <td>2014</td>\n",
       "      <td>2</td>\n",
       "    </tr>\n",
       "    <tr>\n",
       "      <th>2</th>\n",
       "      <td>Valve</td>\n",
       "      <td>Half-Life</td>\n",
       "      <td>70.0</td>\n",
       "      <td>Valve</td>\n",
       "      <td>1</td>\n",
       "      <td>0</td>\n",
       "      <td>0</td>\n",
       "      <td>0</td>\n",
       "      <td>0</td>\n",
       "      <td>0</td>\n",
       "      <td>...</td>\n",
       "      <td>0</td>\n",
       "      <td>http://steamcommunity.com/profiles/76561198030...</td>\n",
       "      <td></td>\n",
       "      <td></td>\n",
       "      <td>319630</td>\n",
       "      <td>1 of 2 people (50%) found this review helpful</td>\n",
       "      <td>True</td>\n",
       "      <td>Well for starters, when I write reviews they a...</td>\n",
       "      <td>2015</td>\n",
       "      <td>2</td>\n",
       "    </tr>\n",
       "  </tbody>\n",
       "</table>\n",
       "<p>3 rows × 40 columns</p>\n",
       "</div>"
      ],
      "text/plain": [
       "  publisher      title    id developer  Action  Adventure  \\\n",
       "0     Valve  Half-Life  70.0     Valve       1          0   \n",
       "1     Valve  Half-Life  70.0     Valve       1          0   \n",
       "2     Valve  Half-Life  70.0     Valve       1          0   \n",
       "\n",
       "   Animation &amp; Modeling  Audio Production  Casual  \\\n",
       "0                         0                 0       0   \n",
       "1                         0                 0       0   \n",
       "2                         0                 0       0   \n",
       "\n",
       "   Design &amp; Illustration  ...  playtime_2weeks  \\\n",
       "0                          0  ...                0   \n",
       "1                          0  ...                0   \n",
       "2                          0  ...                0   \n",
       "\n",
       "                                            user_url  \\\n",
       "0               http://steamcommunity.com/id/kube134   \n",
       "1  http://steamcommunity.com/profiles/76561198030...   \n",
       "2  http://steamcommunity.com/profiles/76561198030...   \n",
       "\n",
       "                              funny  last_edited  item_id  \\\n",
       "0                                                  251990   \n",
       "1  2 people found this review funny                332800   \n",
       "2                                                  319630   \n",
       "\n",
       "                                             helpful  recommend  \\\n",
       "0     1 of 1 people (100%) found this review helpful       True   \n",
       "1  194 of 282 people (69%) found this review helpful       True   \n",
       "2      1 of 2 people (50%) found this review helpful       True   \n",
       "\n",
       "                                              review  posted_year  \\\n",
       "0  It's good to be a magical queen... if you surv...         2014   \n",
       "1            10/10 would take kids here for birthday         2014   \n",
       "2  Well for starters, when I write reviews they a...         2015   \n",
       "\n",
       "   sentiment_analysis  \n",
       "0                   2  \n",
       "1                   2  \n",
       "2                   2  \n",
       "\n",
       "[3 rows x 40 columns]"
      ]
     },
     "execution_count": 31,
     "metadata": {},
     "output_type": "execute_result"
    }
   ],
   "source": [
    "df_final.head(3)"
   ]
  },
  {
   "cell_type": "markdown",
   "metadata": {},
   "source": [
    "### Se crea un DataSet para seleccionar características numéricas relevantes antes de aplicar las técnicas de recomendación."
   ]
  },
  {
   "cell_type": "code",
   "execution_count": 32,
   "metadata": {},
   "outputs": [],
   "source": [
    "df_ord = df_final.select_dtypes(include = (int,float))\n",
    "df_ord.drop(columns=['Action', 'Adventure',\n",
    "       'Audio Production', 'Casual', 'Design &amp; Illustration',\n",
    "       'Early Access', 'Education', 'Free to Play', 'Indie', 'Animation &amp; Modeling',\n",
    "       'Massively Multiplayer', 'Photo Editing', 'RPG', 'Racing', 'Simulation',\n",
    "       'Software Training', 'Sports', 'Strategy', 'Utilities',\n",
    "       'Video Production', 'Web Publishing'], inplace=True)"
   ]
  },
  {
   "cell_type": "markdown",
   "metadata": {},
   "source": [
    "### El DataFrame obtenido de los diferentes procesos se exporta a un archivo Parquet."
   ]
  },
  {
   "cell_type": "code",
   "execution_count": 33,
   "metadata": {},
   "outputs": [],
   "source": [
    "df_ord.to_parquet('dataset_final_ord.parquet.gz', compression='gzip', index=False) "
   ]
  }
 ],
 "metadata": {
  "kernelspec": {
   "display_name": "Python 3",
   "language": "python",
   "name": "python3"
  },
  "language_info": {
   "codemirror_mode": {
    "name": "ipython",
    "version": 3
   },
   "file_extension": ".py",
   "mimetype": "text/x-python",
   "name": "python",
   "nbconvert_exporter": "python",
   "pygments_lexer": "ipython3",
   "version": "3.11.4"
  }
 },
 "nbformat": 4,
 "nbformat_minor": 2
}
